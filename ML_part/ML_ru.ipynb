{
 "cells": [
  {
   "cell_type": "code",
   "execution_count": 1,
   "metadata": {},
   "outputs": [],
   "source": [
    "import numpy as np\n",
    "import pandas as pd\n",
    "import string\n",
    "import codecs\n",
    "import string\n",
    "from sklearn.ensemble import RandomForestClassifier\n",
    "from sklearn.metrics import accuracy_score, recall_score, precision_score"
   ]
  },
  {
   "cell_type": "code",
   "execution_count": 1,
   "metadata": {},
   "outputs": [],
   "source": [
    "def parseOutText(content):\n",
    "    words = \"\"\n",
    "  \n",
    "    ### remove punctuation\n",
    "    text_string = content.translate(str.maketrans('', '', string.punctuation))\n",
    "\n",
    "    from nltk.stem.snowball import SnowballStemmer \n",
    "\n",
    "\n",
    "    ### project part 2: comment out the line below\n",
    "#         words = text_string\n",
    "\n",
    "    ### split the text string into individual words, stem each word,\n",
    "    ### and append the stemmed word to words (make sure there's a single\n",
    "    ### space between each stemmed word)\n",
    "\n",
    "    stemmer = SnowballStemmer(\"russian\")\n",
    "\n",
    "    words = \"\";\n",
    "    splitted_text = text_string.split()\n",
    "    for word in splitted_text:\n",
    "        word = stemmer.stem(word)\n",
    "        words = words + word + \" \"\n",
    "    \n",
    "    return words\n",
    "    "
   ]
  },
  {
   "cell_type": "code",
   "execution_count": 2,
   "metadata": {},
   "outputs": [],
   "source": [
    "def parse_set( collection ):\n",
    "    word_data = []\n",
    "    for text in collection:\n",
    "        word_data.append(parseOutText(text) )\n",
    "    return word_data\n",
    "    "
   ]
  },
  {
   "cell_type": "code",
   "execution_count": 3,
   "metadata": {},
   "outputs": [],
   "source": [
    "def build_model_ru():\n",
    "    \n",
    "    from sklearn.model_selection import train_test_split\n",
    "    data = pd.read_json('./data/news-ru.json', encoding = 'utf-8')\n",
    "    data.drop('id', axis = 1, inplace=True)\n",
    "    data = data.iloc[:100]\n",
    "    \n",
    "    print( data['sentiment'].value_counts() )\n",
    "    print(data)\n",
    "    from sklearn.feature_extraction.text import TfidfVectorizer, TfidfTransformer\n",
    "    \n",
    "    word_data = parse_set(data['text'])\n",
    "    \n",
    "    f = open('./data/stopwords-ru.txt', 'r')\n",
    "    vectorizer = TfidfVectorizer(f.read())\n",
    "    X = vectorizer.fit_transform(word_data)\n",
    "\n",
    "    x_train, x_test, y_train, y_test = train_test_split(X, data[\"sentiment\"], test_size = 0.2, random_state = 7)\n",
    "    clf_forest = RandomForestClassifier(n_estimators = 100, random_state = 7)\n",
    "    clf_forest.fit(x_train, y_train)\n",
    "    \n",
    "    return clf_forest, vectorizer"
   ]
  },
  {
   "cell_type": "code",
   "execution_count": 4,
   "metadata": {},
   "outputs": [],
   "source": [
    "def predict_ru(clf_forest, vectorizer, collection):\n",
    "    from sklearn.feature_extraction.text import TfidfVectorizer, TfidfTransformer\n",
    "\n",
    "    processed_data = parse_set(collection)\n",
    "   \n",
    "    return clf_forest.predict( vectorizer.transform(processed_data) )\n"
   ]
  },
  {
   "cell_type": "code",
   "execution_count": 1,
   "metadata": {},
   "outputs": [],
   "source": []
  },
  {
   "cell_type": "code",
   "execution_count": 2,
   "metadata": {},
   "outputs": [
    {
     "data": {
      "text/plain": [
       "(RandomForestClassifier(bootstrap=True, class_weight=None, criterion='gini',\n",
       "                        max_depth=None, max_features='auto', max_leaf_nodes=None,\n",
       "                        min_impurity_decrease=0.0, min_impurity_split=None,\n",
       "                        min_samples_leaf=1, min_samples_split=2,\n",
       "                        min_weight_fraction_leaf=0.0, n_estimators=100,\n",
       "                        n_jobs=None, oob_score=False, random_state=7, verbose=0,\n",
       "                        warm_start=False),\n",
       " TfidfTransformer(norm='l2', smooth_idf=True, sublinear_tf=False, use_idf=True))"
      ]
     },
     "execution_count": 2,
     "metadata": {},
     "output_type": "execute_result"
    }
   ],
   "source": [
    "build_model_ru()"
   ]
  },
  {
   "cell_type": "code",
   "execution_count": null,
   "metadata": {},
   "outputs": [],
   "source": []
  }
 ],
 "metadata": {
  "kernelspec": {
   "display_name": "Python 3",
   "language": "python",
   "name": "python3"
  },
  "language_info": {
   "codemirror_mode": {
    "name": "ipython",
    "version": 3
   },
   "file_extension": ".py",
   "mimetype": "text/x-python",
   "name": "python",
   "nbconvert_exporter": "python",
   "pygments_lexer": "ipython3",
   "version": "3.7.3"
  }
 },
 "nbformat": 4,
 "nbformat_minor": 2
}

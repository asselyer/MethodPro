{
 "cells": [
  {
   "cell_type": "code",
   "execution_count": null,
   "metadata": {},
   "outputs": [],
   "source": [
    "\n",
    "import pandas as pd\n",
    "import numpy as np\n",
    "from textblob import TextBlob\n",
    "import string\n",
    "\n",
    "def predict_en(headers_list):\n",
    "    df2 = pd.DataFrame(headers_list, columns=['title'])\n",
    "    df2['title_mod'] = df2['title'].str.translate(str.maketrans('', '', string.punctuation))\n",
    "    df2['Polarity'] = np.nan\n",
    "    df2['Subjectivity']= np.nan\n",
    "    df2['Score'] = np.nan'\n",
    "    \n",
    "    print(df2['title_mod'].values)\n",
    "\n",
    "    for idx, title in enumerate(df2['title_mod'].values):  #for each row in our df dataframe\n",
    "\n",
    "        obj = TextBlob(title) #pass the text only article to TextBlob to anaylse\n",
    "        df2['Polarity'].iloc[idx] = obj.sentiment.polarity #write sentiment polarity back to df\n",
    "        df2['Subjectivity'].iloc[idx] = obj.sentiment.subjectivity #write sentiment subjectivity score back to df\n",
    "        if obj.sentiment.polarity >= 0.05: # attribute bucket to sentiment polarity\n",
    "            score = 'positive'\n",
    "        elif  -.05 < obj.sentiment.polarity < 0.05:\n",
    "            score = 'neutral'\n",
    "        else:\n",
    "            score = 'negative'\n",
    "        df2['Score'].iloc[idx] = score #write score back to df\n",
    "    return df2['Score']"
   ]
  }
 ],
 "metadata": {
  "kernelspec": {
   "display_name": "Python 3",
   "language": "python",
   "name": "python3"
  },
  "language_info": {
   "codemirror_mode": {
    "name": "ipython",
    "version": 3
   },
   "file_extension": ".py",
   "mimetype": "text/x-python",
   "name": "python",
   "nbconvert_exporter": "python",
   "pygments_lexer": "ipython3",
   "version": "3.7.3"
  }
 },
 "nbformat": 4,
 "nbformat_minor": 2
}

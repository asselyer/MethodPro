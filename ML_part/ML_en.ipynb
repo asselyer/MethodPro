{
 "cells": [
  {
   "cell_type": "code",
   "execution_count": null,
   "metadata": {},
   "outputs": [],
   "source": [
    "\n",
    "import pandas as pd\n",
    "import numpy as np\n",
    "from bs4 import BeautifulSoup\n",
    "from textblob import TextBlob\n",
    "import datetime\n",
    "from datetime import time\n",
    "import warnings\n",
    "import string\n",
    "from sklearn.ensemble import RandomForestClassifier\n",
    "from sklearn.metrics import accuracy_score, recall_score, precision_score\n",
    "\n",
    "warnings.filterwarnings(\"ignore\")\n",
    "\n",
    "def \n",
    "df2['TITLE_mod'] = df2['TITLE'].str.translate(str.maketrans('', '', string.punctuation))\n",
    "\n",
    "for idx, title in enumerate(df2['TITLE_mod'].values):  #for each row in our df dataframe\n",
    "#     newsText = ek.get_news_story(storyId) #get the news story\n",
    "#     if newsText:\n",
    "#         soup = BeautifulSoup(newsText,\"lxml\") #create a BeautifulSoup object from our HTML news article\n",
    "        obj = TextBlob(title) #pass the text only article to TextBlob to anaylse\n",
    "        df2['Polarity'].iloc[idx] = obj.sentiment.polarity #write sentiment polarity back to df\n",
    "        df2['Subjectivity'].iloc[idx] = obj.sentiment.subjectivity #write sentiment subjectivity score back to df\n",
    "        if obj.sentiment.polarity >= 0.05: # attribute bucket to sentiment polartiy\n",
    "            score = 'positive'\n",
    "        elif  -.05 < obj.sentiment.polarity < 0.05:\n",
    "            score = 'neutral'\n",
    "        else:\n",
    "            score = 'negative'\n",
    "        df2['Score'].iloc[idx] = score #write score back to df\n",
    "df2.head()"
   ]
  }
 ],
 "metadata": {
  "kernelspec": {
   "display_name": "Python 3",
   "language": "python",
   "name": "python3"
  },
  "language_info": {
   "codemirror_mode": {
    "name": "ipython",
    "version": 3
   },
   "file_extension": ".py",
   "mimetype": "text/x-python",
   "name": "python",
   "nbconvert_exporter": "python",
   "pygments_lexer": "ipython3",
   "version": "3.7.3"
  }
 },
 "nbformat": 4,
 "nbformat_minor": 2
}

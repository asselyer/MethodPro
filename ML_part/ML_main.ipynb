{
 "cells": [
  {
   "cell_type": "code",
   "execution_count": 2,
   "metadata": {},
   "outputs": [],
   "source": [
    "# If the text contains kazakh letters, it is going to be in kazakh language, so this funciton returns true\n",
    "def is_kazakh(text):\n",
    "    return bool(re.search('[ӘәІіҢңҒғҮүҰұҚқӨөҺһ]', text))\n",
    "\n",
    "# if the text contains cyrillic letters, it is going to return true. This means that the text is in russian language\n",
    "def is_russian(text):\n",
    "    return bool(re.search('[а-яА-Я]', text))\n"
   ]
  },
  {
   "cell_type": "code",
   "execution_count": 3,
   "metadata": {},
   "outputs": [],
   "source": [
    "import re \n",
    "import pandas as pd\n",
    "import numpy as np\n",
    "from sklearn.ensemble import RandomForestClassifier\n",
    "from sklearn.metrics import accuracy_score, recall_score, precision_score\n",
    "\n",
    "headers_list = ['В Алмате преподавателем повысыли зарплату на 10%']\n"
   ]
  },
  {
   "cell_type": "code",
   "execution_count": 7,
   "metadata": {},
   "outputs": [],
   "source": [
    "def predict(headers_list): \n",
    "    if is_kazakh(headers_list[0]) :\n",
    "        from ML_kz import build_model_kz, process_kz\n",
    "        model = build_model_kz()\n",
    "        return model.predict(process_kz(headers_list))\n",
    "    elif is_russian(headers_list[0]):\n",
    "        from ML_ru import build_model_ru, process_ru\n",
    "        model = build_model_ru\n",
    "        return model.predict(process_ru(headers_list))\n",
    "    else :\n",
    "        from ML_en import predict_en, process_en\n",
    "        return predict_en( process_en(headers_list) )\n"
   ]
  },
  {
   "cell_type": "code",
   "execution_count": null,
   "metadata": {},
   "outputs": [],
   "source": []
  }
 ],
 "metadata": {
  "kernelspec": {
   "display_name": "Python 3",
   "language": "python",
   "name": "python3"
  },
  "language_info": {
   "codemirror_mode": {
    "name": "ipython",
    "version": 3
   },
   "file_extension": ".py",
   "mimetype": "text/x-python",
   "name": "python",
   "nbconvert_exporter": "python",
   "pygments_lexer": "ipython3",
   "version": "3.7.3"
  }
 },
 "nbformat": 4,
 "nbformat_minor": 2
}

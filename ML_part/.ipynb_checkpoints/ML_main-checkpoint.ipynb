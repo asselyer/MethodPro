{
 "cells": [
  {
   "cell_type": "code",
   "execution_count": 15,
   "metadata": {},
   "outputs": [],
   "source": [
    "# If the text contains kazakh letters, it is going to be in kazakh language, so this funciton returns true\n",
    "def is_kazakh(text):\n",
    "    return bool(re.search('[ӘәІіҢңҒғҮүҰұҚқӨөҺһ]', text))\n",
    "\n",
    "# if the text contains cyrillic letters, it is going to return true. This means that the text is in russian language\n",
    "def is_russian(text):\n",
    "    return bool(re.search('[а-яА-Я]', text))\n"
   ]
  },
  {
   "cell_type": "code",
   "execution_count": 40,
   "metadata": {},
   "outputs": [],
   "source": [
    "import re \n",
    "import pandas as pd\n",
    "import numpy as np\n",
    "import sys\n",
    "from sklearn.model_selection import train_test_split\n",
    "from sklearn.ensemble import RandomForestClassifier\n",
    "from sklearn.metrics import accuracy_score, recall_score, precision_score\n",
    "from sklearn.feature_extraction.text import TfidfVectorizer, TfidfTransformer\n",
    "\n",
    "\n",
    "# headers_list = ['В Алмате преподавателем повысыли зарплату на 10%']\n",
    "headers_list = ['The life of Almaty is up']\n"
   ]
  },
  {
   "cell_type": "code",
   "execution_count": 41,
   "metadata": {},
   "outputs": [],
   "source": [
    "# from ML_kz import build_model_kz, predict_kz\n",
    "# from ML_ru import build_model_ru, predict_ru\n",
    "\n",
    "from ML_en import predict_en\n",
    "\n",
    "# model_kz, tfidf_kz = build_model_kz()\n",
    "# model_ru, transform = build_model_ru()"
   ]
  },
  {
   "cell_type": "code",
   "execution_count": 42,
   "metadata": {},
   "outputs": [],
   "source": [
    "def predict(headers_list): \n",
    "    if is_kazakh(headers_list[0]) :\n",
    "        return predict_kz(model_kz, header_list)\n",
    "    elif is_russian(headers_list[0]):\n",
    "        return predict_ru(model_ru, transform, header_list)\n",
    "    else :\n",
    "        return predict_en( headers_list)\n"
   ]
  },
  {
   "cell_type": "code",
   "execution_count": 43,
   "metadata": {},
   "outputs": [
    {
     "name": "stdout",
     "output_type": "stream",
     "text": [
      "0    The life of Almaty is up\n",
      "Name: title_mod, dtype: object\n"
     ]
    },
    {
     "data": {
      "text/plain": [
       "0    neutral\n",
       "Name: Score, dtype: object"
      ]
     },
     "execution_count": 43,
     "metadata": {},
     "output_type": "execute_result"
    }
   ],
   "source": [
    "predict(headers_list)"
   ]
  },
  {
   "cell_type": "code",
   "execution_count": null,
   "metadata": {},
   "outputs": [],
   "source": []
  }
 ],
 "metadata": {
  "kernelspec": {
   "display_name": "Python 3",
   "language": "python",
   "name": "python3"
  },
  "language_info": {
   "codemirror_mode": {
    "name": "ipython",
    "version": 3
   },
   "file_extension": ".py",
   "mimetype": "text/x-python",
   "name": "python",
   "nbconvert_exporter": "python",
   "pygments_lexer": "ipython3",
   "version": "3.7.3"
  }
 },
 "nbformat": 4,
 "nbformat_minor": 2
}

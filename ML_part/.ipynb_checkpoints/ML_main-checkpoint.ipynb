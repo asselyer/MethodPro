{
 "cells": [
  {
   "cell_type": "code",
   "execution_count": 6,
   "metadata": {},
   "outputs": [],
   "source": [
    "# If the text contains kazakh letters, it is going to be in kazakh language, so this funciton returns true\n",
    "def is_kazakh(text):\n",
    "    return bool(re.search('[ӘәІіҢңҒғҮүҰұҚқӨөҺһ]', text))\n",
    "\n",
    "# if the text contains cyrillic letters, it is going to return true. This means that the text is in russian language\n",
    "def is_russian(text):\n",
    "    return bool(re.search('[а-яА-Я]', text))\n"
   ]
  },
  {
   "cell_type": "code",
   "execution_count": 27,
   "metadata": {},
   "outputs": [],
   "source": [
    "import re \n",
    "import pandas as pd\n",
    "import numpy as np\n",
    "import sys\n",
    "from sklearn.model_selection import train_test_split\n",
    "from sklearn.ensemble import RandomForestClassifier\n",
    "from sklearn.metrics import accuracy_score, recall_score, precision_score\n",
    "from sklearn.feature_extraction.text import TfidfVectorizer, TfidfTransformer\n",
    "\n",
    "\n",
    "headers_list = ['В Алмате преподавателем повысили зарплату на 10%']\n",
    "# headers_list = ['The life of Almaty is up']\n",
    "\n"
   ]
  },
  {
   "cell_type": "code",
   "execution_count": null,
   "metadata": {},
   "outputs": [],
   "source": []
  },
  {
   "cell_type": "code",
   "execution_count": 34,
   "metadata": {},
   "outputs": [
    {
     "name": "stdout",
     "output_type": "stream",
     "text": [
      "  sentiment                                               text\n",
      "0  negative  Досудебное расследование по факту покупки ЕНПФ...\n",
      "1  negative  Медики рассказали о состоянии пострадавшего му...\n",
      "2  negative  Прошел почти год, как железнодорожным оператор...\n",
      "3  negative  По итогам 12 месяцев 2016 года на территории р...\n",
      "4  negative  Астана. 21 ноября. Kazakhstan Today - Агентств...\n",
      "5  negative  Об аресте бывшего министра национальной эконом...\n",
      "6  negative  Двое налетчиков совершили нападение на охранни...\n",
      "7  negative  \"Самрук-Энерго\" в I квартале почти вдвое снизи...\n",
      "8  negative  В 2016 году почти половина коррупционных прест...\n",
      "9  negative  Google+\\nЧт 19 янв 2017 12:35:02\\nОдин из фигу...\n"
     ]
    }
   ],
   "source": [
    "# from ML_kz import build_model_kz, predict_kz\n",
    "from ML_ru import build_model_ru, predict_ru\n",
    "\n",
    "\n",
    "from ML_en import predict_en\n",
    "\n",
    "# model_kz, tfidf_kz = build_model_kz()\n",
    "model_ru, transform = build_model_ru()"
   ]
  },
  {
   "cell_type": "code",
   "execution_count": 37,
   "metadata": {},
   "outputs": [],
   "source": [
    "def predict(headers_list): \n",
    "    if is_kazakh(headers_list[0]) :\n",
    "        return predict_kz(model_kz, headers_list)\n",
    "    elif is_russian(headers_list[0]):\n",
    "        return predict_ru(model_ru, transform, headers_list)\n",
    "    else :\n",
    "        return predict_en( headers_list)\n"
   ]
  },
  {
   "cell_type": "code",
   "execution_count": 38,
   "metadata": {},
   "outputs": [
    {
     "ename": "NameError",
     "evalue": "name 'TfidfVectorizer' is not defined",
     "output_type": "error",
     "traceback": [
      "\u001b[1;31m---------------------------------------------------------------------------\u001b[0m",
      "\u001b[1;31mNameError\u001b[0m                                 Traceback (most recent call last)",
      "\u001b[1;32m<ipython-input-38-9bd7cb6eb01e>\u001b[0m in \u001b[0;36m<module>\u001b[1;34m\u001b[0m\n\u001b[1;32m----> 1\u001b[1;33m \u001b[0mpredict\u001b[0m\u001b[1;33m(\u001b[0m\u001b[0mheaders_list\u001b[0m\u001b[1;33m)\u001b[0m\u001b[1;33m\u001b[0m\u001b[1;33m\u001b[0m\u001b[0m\n\u001b[0m",
      "\u001b[1;32m<ipython-input-37-463613007c79>\u001b[0m in \u001b[0;36mpredict\u001b[1;34m(headers_list)\u001b[0m\n\u001b[0;32m      3\u001b[0m         \u001b[1;32mreturn\u001b[0m \u001b[0mpredict_kz\u001b[0m\u001b[1;33m(\u001b[0m\u001b[0mmodel_kz\u001b[0m\u001b[1;33m,\u001b[0m \u001b[0mheaders_list\u001b[0m\u001b[1;33m)\u001b[0m\u001b[1;33m\u001b[0m\u001b[1;33m\u001b[0m\u001b[0m\n\u001b[0;32m      4\u001b[0m     \u001b[1;32melif\u001b[0m \u001b[0mis_russian\u001b[0m\u001b[1;33m(\u001b[0m\u001b[0mheaders_list\u001b[0m\u001b[1;33m[\u001b[0m\u001b[1;36m0\u001b[0m\u001b[1;33m]\u001b[0m\u001b[1;33m)\u001b[0m\u001b[1;33m:\u001b[0m\u001b[1;33m\u001b[0m\u001b[1;33m\u001b[0m\u001b[0m\n\u001b[1;32m----> 5\u001b[1;33m         \u001b[1;32mreturn\u001b[0m \u001b[0mpredict_ru\u001b[0m\u001b[1;33m(\u001b[0m\u001b[0mmodel_ru\u001b[0m\u001b[1;33m,\u001b[0m \u001b[0mtransform\u001b[0m\u001b[1;33m,\u001b[0m \u001b[0mheaders_list\u001b[0m\u001b[1;33m)\u001b[0m\u001b[1;33m\u001b[0m\u001b[1;33m\u001b[0m\u001b[0m\n\u001b[0m\u001b[0;32m      6\u001b[0m     \u001b[1;32melse\u001b[0m \u001b[1;33m:\u001b[0m\u001b[1;33m\u001b[0m\u001b[1;33m\u001b[0m\u001b[0m\n\u001b[0;32m      7\u001b[0m         \u001b[1;32mreturn\u001b[0m \u001b[0mpredict_en\u001b[0m\u001b[1;33m(\u001b[0m \u001b[0mheaders_list\u001b[0m\u001b[1;33m)\u001b[0m\u001b[1;33m\u001b[0m\u001b[1;33m\u001b[0m\u001b[0m\n",
      "\u001b[1;32m~\\github\\ML\\ML_part\\ML_ru.py\u001b[0m in \u001b[0;36mpredict_ru\u001b[1;34m(clf_forest, transformer, collection)\u001b[0m\n\u001b[0;32m     67\u001b[0m     \u001b[0mprocessed_data\u001b[0m \u001b[1;33m=\u001b[0m \u001b[0mparse_set\u001b[0m\u001b[1;33m(\u001b[0m\u001b[0mcollection\u001b[0m\u001b[1;33m)\u001b[0m\u001b[1;33m\u001b[0m\u001b[1;33m\u001b[0m\u001b[0m\n\u001b[0;32m     68\u001b[0m \u001b[1;33m\u001b[0m\u001b[0m\n\u001b[1;32m---> 69\u001b[1;33m     \u001b[1;32mreturn\u001b[0m \u001b[0mclf_forest\u001b[0m\u001b[1;33m.\u001b[0m\u001b[0mpredict\u001b[0m\u001b[1;33m(\u001b[0m \u001b[0mvectorizer\u001b[0m\u001b[1;33m.\u001b[0m\u001b[0mfit_transform\u001b[0m\u001b[1;33m(\u001b[0m\u001b[0mprocessed_data\u001b[0m\u001b[1;33m)\u001b[0m \u001b[1;33m)\u001b[0m\u001b[1;33m\u001b[0m\u001b[1;33m\u001b[0m\u001b[0m\n\u001b[0m\u001b[0;32m     70\u001b[0m \u001b[1;33m\u001b[0m\u001b[0m\n\u001b[0;32m     71\u001b[0m \u001b[1;33m\u001b[0m\u001b[0m\n",
      "\u001b[1;31mNameError\u001b[0m: name 'TfidfVectorizer' is not defined"
     ]
    }
   ],
   "source": [
    "predict(headers_list)"
   ]
  },
  {
   "cell_type": "code",
   "execution_count": null,
   "metadata": {},
   "outputs": [],
   "source": []
  },
  {
   "cell_type": "code",
   "execution_count": null,
   "metadata": {},
   "outputs": [],
   "source": []
  }
 ],
 "metadata": {
  "kernelspec": {
   "display_name": "Python 3",
   "language": "python",
   "name": "python3"
  },
  "language_info": {
   "codemirror_mode": {
    "name": "ipython",
    "version": 3
   },
   "file_extension": ".py",
   "mimetype": "text/x-python",
   "name": "python",
   "nbconvert_exporter": "python",
   "pygments_lexer": "ipython3",
   "version": "3.7.3"
  }
 },
 "nbformat": 4,
 "nbformat_minor": 2
}

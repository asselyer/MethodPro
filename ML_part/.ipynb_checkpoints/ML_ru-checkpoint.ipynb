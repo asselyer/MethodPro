{
 "cells": [
  {
   "cell_type": "code",
   "execution_count": 1,
   "metadata": {},
   "outputs": [],
   "source": [
    "import numpy as np\n",
    "import pandas as pd\n",
    "import string\n",
    "import codecs\n",
    "import string\n",
    "from sklearn.ensemble import RandomForestClassifier\n",
    "from sklearn.metrics import accuracy_score, recall_score, precision_score"
   ]
  },
  {
   "cell_type": "code",
   "execution_count": null,
   "metadata": {},
   "outputs": [],
   "source": [
    "def parseOutText(content):\n",
    "    words = \"\"\n",
    "    if len(content) > 1:\n",
    "        ### remove punctuation\n",
    "        text_string = content.translate(str.maketrans('', '', string.punctuation))\n",
    "        \n",
    "        from nltk.stem.snowball import SnowballStemmer \n",
    "\n",
    "\n",
    "        ### project part 2: comment out the line below\n",
    "    #         words = text_string\n",
    "\n",
    "        ### split the text string into individual words, stem each word,\n",
    "        ### and append the stemmed word to words (make sure there's a single\n",
    "        ### space between each stemmed word)\n",
    "\n",
    "        stemmer = SnowballStemmer(\"russian\")\n",
    "\n",
    "        words = \"\";\n",
    "        splitted_text = text_string.split()\n",
    "        for word in splitted_text:\n",
    "            word = stemmer.stem(word)\n",
    "            words = words + word + \" \"\n",
    "    \n",
    "    return words"
   ]
  },
  {
   "cell_type": "code",
   "execution_count": null,
   "metadata": {},
   "outputs": [],
   "source": [
    "def parse_set( collection ):\n",
    "    word_data = []\n",
    "    for text in collection:\n",
    "        word_data.append(parseOutText(text) )\n",
    "    return word_data"
   ]
  },
  {
   "cell_type": "code",
   "execution_count": null,
   "metadata": {},
   "outputs": [],
   "source": [
    "def build_model_ru():\n",
    "    data = pd.read_json('./data/news.json', encoding = 'utf-8')\n",
    "    data.drop('id', axis = 1, inplace=True)\n",
    "    \n",
    "    from sklearn.feature_extraction.text import TfidfVectorizer, TfidfTransformer\n",
    "    \n",
    "    word_data = process_ru(data['text'])\n",
    "    \n",
    "    f = open('./data/stopwords-ru.txt', 'r')\n",
    "    vectorizer = TfidfVectorizer(f.read())\n",
    "    X = vectorizer.fit_transform(word_data)\n",
    "    transformer = TfidfTransformer()\n",
    "    tfidf = transformer.fit_transform(X)\n",
    "\n",
    "    words = vectorizer.get_feature_names()\n",
    "    \n",
    "    x_train, x_test, y_train, y_test = train_test_split(tfidf, data[\"sentiment\"], test_size = 0.2, random_state = 7)\n",
    "    clf_forest = RandomForestClassifier(n_estimators = 100, random_state = 7)\n",
    "    clf_forest.fit(x_train, y_train)\n",
    "    \n",
    "    return clf_forest, tfidf\n"
   ]
  },
  {
   "cell_type": "code",
   "execution_count": null,
   "metadata": {},
   "outputs": [],
   "source": [
    "def predict_ru(clf_forest, colleciton):\n",
    "    "
   ]
  }
 ],
 "metadata": {
  "kernelspec": {
   "display_name": "Python 3",
   "language": "python",
   "name": "python3"
  },
  "language_info": {
   "codemirror_mode": {
    "name": "ipython",
    "version": 3
   },
   "file_extension": ".py",
   "mimetype": "text/x-python",
   "name": "python",
   "nbconvert_exporter": "python",
   "pygments_lexer": "ipython3",
   "version": "3.7.3"
  }
 },
 "nbformat": 4,
 "nbformat_minor": 2
}
